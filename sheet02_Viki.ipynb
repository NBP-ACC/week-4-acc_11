{
 "cells": [
  {
   "cell_type": "markdown",
   "metadata": {},
   "source": [
    "Osnabrück University - A&C: Computational Cognition (Summer Term 2019)"
   ]
  },
  {
   "cell_type": "markdown",
   "metadata": {},
   "source": [
    "# Exercise Sheet 02: Basic statistics"
   ]
  },
  {
   "cell_type": "markdown",
   "metadata": {},
   "source": [
    "## Introduction\n",
    "\n",
    "This week's sheet should be solved and handed in at 14:00 at **Tuesday, April 30, 2019**. If you need help (and Google and other resources were not enough), feel free to contact your tutors. Please push your results to your Github group folder.\n",
    "\n",
    "In this exercise sheet you will have to work with ```pandas``` and ```seaborn```. ```pandas``` is one of the most preferred and widely used tools in data processing. What’s cool about ```pandas``` is that it takes data (like a CSV or TSV file, or a SQL database) and creates a Python object with rows and columns called 'data frame' that looks very similar to tables in a statistical software (think Excel or SPSS for example). ```pandas``` makes data processing a lot easier in comparison to working with lists and/or dictionaries through for-loops or list comprehension.  \n",
    "```seaborn``` is a library for making plots. It is based on ```matplotlib``` but offers more functions speicialized for statistical visualization. Also most people agree that ```seaborn``` looks more legit.\n",
    "\n",
    "Don't forget that you we will also give **2 points** for nice coding style!"
   ]
  },
  {
   "cell_type": "markdown",
   "metadata": {},
   "source": [
    "## Assignment 0: Peer review for sheet 01 [3 pts]"
   ]
  },
  {
   "cell_type": "markdown",
   "metadata": {},
   "source": [
    "Beginning this week you will have to make a peer review of the other groups' solutions. Each group reviews the solutions of two other groups and give points according to the given point distribution considering the correctness of the solution. For this reviews the tutors will give you up to 3 points each week.\n",
    "\n",
    "| * |Group 1|Group 2|Group 3|Group 4|Group 5|Group 6|Group 7|Group 8|Group 9|Group 10|Group 11|\n",
    "| ------- | ----- | ----- | ----- | ----- | ----- | ----- | ----- | ----- | ----- | ------ | ------ |\n",
    "| check solutions of group: | 10, 7 | 4, 9  | 1, 4  | 11, 1 | 8, 11 | 5, 3  | 9, 10 | 6, 5  | 3, 2  | 2, 8   | 7, 6   |"
   ]
  },
  {
   "cell_type": "markdown",
   "metadata": {},
   "source": [
    "You should open an issue in repositories of groups you have to check. The title of the issue should be your group name (e.g.\"Group 1\"). Comments on what was good and bad, how much points they get etc.  \n",
    "Refer to https://guides.github.com/features/issues/ to learn more about issues."
   ]
  },
  {
   "cell_type": "markdown",
   "metadata": {},
   "source": [
    "## Assignment 1: Dataframes [4 pts]"
   ]
  },
  {
   "cell_type": "code",
   "execution_count": 1,
   "metadata": {},
   "outputs": [],
   "source": [
    "# import libraries\n",
    "import os\n",
    "import numpy as np\n",
    "import pandas as pd\n",
    "import matplotlib.pyplot as plt\n",
    "import seaborn as sns\n",
    "sns.set()"
   ]
  },
  {
   "cell_type": "markdown",
   "metadata": {},
   "source": [
    "```matplotlib``` and ```seaborn``` should already be installed in your environment. If not please run:\n",
    "```sh\n",
    "pip install seaborn\n",
    "```"
   ]
  },
  {
   "cell_type": "markdown",
   "metadata": {},
   "source": [
    "### a) Importing a csv file [2 pts]"
   ]
  },
  {
   "cell_type": "markdown",
   "metadata": {},
   "source": [
    "Import the csv files of all subjects into one dataframe. Make sure that each row has a unique index. You might want to take a look at what ***pandas.concat*** does.<br>\n",
    "Extra fun: Display the output of the dataframe using the ***pandas.set_option*** function to display the data in a well-arranged way. Play a little bit around with the settings that you are allowed to change.<br>\n",
    "Save ```df_concatenated```.\n"
   ]
  },
  {
   "cell_type": "code",
   "execution_count": 2,
   "metadata": {},
   "outputs": [
    {
     "name": "stdout",
     "output_type": "stream",
     "text": [
      "    SubjectID  StimulusType  response   RT\n",
      "0           0             1         1  591\n",
      "1           0             1         1  527\n",
      "2           0             1         1  331\n",
      "3           0             0         0    0\n",
      "4           0             1         1  363\n",
      "5           0             1         1  313\n",
      "6           0             1         1  331\n",
      "7           0             1         1  331\n",
      "8           0             1         1  313\n",
      "9           0             1         1  444\n",
      "10          0             1         1  378\n",
      "11          0             1         1  297\n",
      "12          0             1         1  297\n",
      "13          0             1         1  314\n",
      "14          0             1         1  248\n",
      "15          0             1         1  262\n",
      "16          0             0         0    0\n",
      "17          0             0         0    0\n",
      "18          0             0         0    0\n",
      "19          0             1         1  430\n",
      "20          0             1         1  313\n",
      "21          0             1         1  278\n",
      "22          0             1         1  281\n",
      "23          0             1         1  284\n",
      "24          0             1         1  313\n",
      "25          0             0         1  249\n",
      "26          0             0         0    0\n",
      "27          0             1         1  383\n",
      "28          0             0         0    0\n",
      "29          0             1         1  280\n",
      "..        ...           ...       ...  ...\n",
      "70          5             1         1  403\n",
      "71          5             1         1  490\n",
      "72          5             1         1  653\n",
      "73          5             1         1  424\n",
      "74          5             1         1  468\n",
      "75          5             0         0    0\n",
      "76          5             1         1  402\n",
      "77          5             0         0    0\n",
      "78          5             0         0    0\n",
      "79          5             1         1  554\n",
      "80          5             1         1  761\n",
      "81          5             1         1  283\n",
      "82          5             1         1  350\n",
      "83          5             1         1  336\n",
      "84          5             0         1  354\n",
      "85          5             1         1  671\n",
      "86          5             1         1  704\n",
      "87          5             0         0    0\n",
      "88          5             1         1  451\n",
      "89          5             1         1  451\n",
      "90          5             1         1  398\n",
      "91          5             1         1  551\n",
      "92          5             1         1  538\n",
      "93          5             0         0    0\n",
      "94          5             1         1  404\n",
      "95          5             1         1  419\n",
      "96          5             1         1  353\n",
      "97          5             1         1  365\n",
      "98          5             1         1  404\n",
      "99          5             1         1  453\n",
      "\n",
      "[600 rows x 4 columns]\n"
     ]
    }
   ],
   "source": [
    "import glob\n",
    "import os\n",
    "\n",
    "PATH = os.getcwd()+ \"/Data\"\n",
    "all_files = glob.glob(os.path.join(PATH, \"*.csv\"))     # advisable to use os.path.join as this makes concatenation OS independent\n",
    "                                                       # http://www.oipapio.com/question-88634    \n",
    "df_concatenated = pd.concat([pd.read_csv(file) for file in all_files])\n",
    "del df_concatenated['Unnamed: 0']\n",
    "\n",
    "# use pd.set_option here to display in a nice way\n",
    "# TODO\n",
    "print(df_concatenated)\n",
    "\n",
    "# save concatenated dataframe\n",
    "DATAPATH = os.getcwd() + '/Processed/data_concatenated.csv'\n",
    "df_concatenated.to_csv(DATAPATH)"
   ]
  },
  {
   "cell_type": "markdown",
   "metadata": {},
   "source": [
    "### b) Working with dataframes [2 pts]"
   ]
  },
  {
   "cell_type": "markdown",
   "metadata": {},
   "source": [
    "- Add a column called \"congruence\" to ```df_concatenated```. The column should have a value *True* if \"StimulusType\" and \"reponse\" matches. Otherwise the column should have a value *False*.\n",
    "\n",
    "- Create a new dataframe which has \"SubjectID\",\"StiumulusType\",\"RT\" and \"congruence\" as a column. For each combination of \"SubjectID\" and \"StimulusType\" (e.g. \"7001\" and \"0\") compute the average RT and congruence level.\n",
    "\n",
    "- When computing the average RT, omit all reaction times which are 0 as these will manipulate the mean.\n",
    "\n",
    "- Rename \"congruence\" as \"accuracy\" and save the dataframe as a csv file. "
   ]
  },
  {
   "cell_type": "code",
   "execution_count": 3,
   "metadata": {
    "scrolled": false
   },
   "outputs": [
    {
     "name": "stdout",
     "output_type": "stream",
     "text": [
      "   SubjectID  StimulusType  response   RT  congruence\n",
      "0          0             1         1  591        True\n",
      "1          0             1         1  527        True\n",
      "2          0             1         1  331        True\n",
      "3          0             0         0    0        True\n",
      "4          0             1         1  363        True\n",
      "                               RT  accuracy\n",
      "SubjectID StimulusType                     \n",
      "0         0              1.252508  0.028333\n",
      "          1             40.891304  0.133333\n",
      "1         0              0.555184  0.031667\n",
      "          1             40.983278  0.133333\n",
      "2         0              2.289298  0.025000\n",
      "          1             49.550167  0.115000\n",
      "3         0              4.387960  0.020000\n",
      "          1             52.600334  0.120000\n",
      "4         0              1.553512  0.028333\n",
      "          1             51.178930  0.128333\n",
      "5         0              2.147157  0.026667\n",
      "          1             55.295987  0.130000\n"
     ]
    }
   ],
   "source": [
    "# add a column \"congruence\"\n",
    "df_concatenated['congruence'] = [st == re for st, re in zip(df_concatenated['StimulusType'], df_concatenated['response'])]\n",
    "print(df_concatenated.head())\n",
    "# create a new dataframe with averaged data\n",
    "\n",
    "df_concatenated_avg = df_concatenated.groupby(['SubjectID', 'StimulusType'])['RT', 'congruence'].sum()# save averaged dataframe\n",
    "df_concatenated_avg['RT'] /= len(df_concatenated)- len(df_concatenated.values.nonzero())\n",
    "df_concatenated_avg['congruence'] /= len(df_concatenated)\n",
    "df_concatenated_avg = df_concatenated_avg.rename(columns={\"congruence\": \"accuracy\"})\n",
    "\n",
    "\n",
    "print(df_concatenated_avg)\n",
    "DATAPATH = os.getcwd() + '/Processed/data_concatenated_averaged.csv'\n",
    "df_concatenated_avg.to_csv(DATAPATH)"
   ]
  },
  {
   "cell_type": "markdown",
   "metadata": {},
   "source": []
  },
  {
   "cell_type": "markdown",
   "metadata": {},
   "source": [
    "## Assignment 2: Statistical plotting [6 pts]"
   ]
  },
  {
   "cell_type": "markdown",
   "metadata": {},
   "source": [
    "### a) Boxplot and Violinplot [2 pts]"
   ]
  },
  {
   "cell_type": "markdown",
   "metadata": {},
   "source": [
    "Plot the RT of each trial for all subjects as a stripplot and a boxplot on top of each other. Do the same with a striplot and a violinplot. Plot go trials as green dots and no-go trails as red dots. Reminder: don't forget to mask the data where RT=0. Make sure that the legends are informative (Don't display duplicated legends)."
   ]
  },
  {
   "cell_type": "code",
   "execution_count": 4,
   "metadata": {},
   "outputs": [
    {
     "name": "stdout",
     "output_type": "stream",
     "text": [
      "   SubjectID  StimulusType  response   RT  congruence\n",
      "0          0             1         1  591        True\n",
      "1          0             1         1  527        True\n",
      "2          0             1         1  331        True\n",
      "4          0             1         1  363        True\n",
      "5          0             1         1  313        True\n"
     ]
    },
    {
     "name": "stderr",
     "output_type": "stream",
     "text": [
      "C:\\Users\\Victoria Benhauser\\Anaconda\\lib\\site-packages\\scipy\\stats\\stats.py:1713: FutureWarning: Using a non-tuple sequence for multidimensional indexing is deprecated; use `arr[tuple(seq)]` instead of `arr[seq]`. In the future this will be interpreted as an array index, `arr[np.array(seq)]`, which will result either in an error or a different result.\n",
      "  return np.add.reduce(sorted[indexer] * weights, axis=axis) / sumval\n"
     ]
    },
    {
     "data": {
      "image/png": "[encoded data removed]",
      "text/plain": [
       "<Figure size 432x288 with 2 Axes>"
      ]
     },
     "metadata": {
      "needs_background": "light"
     },
     "output_type": "display_data"
    }
   ],
   "source": [
    "# read data\n",
    "data_concat = pd.read_csv(os.getcwd() + \"/Processed/data_concatenated.csv\")\n",
    "\n",
    "# create two axes\n",
    "fig, axes = plt.subplots(nrows=1,ncols=2)\n",
    "\n",
    "# RT==0 löschen\n",
    "df_concatenated=df_concatenated[df_concatenated['RT'] != 0]\n",
    "\n",
    "print(df_concatenated.head())\n",
    "\n",
    "# first subplot with stripplot and boxplot\n",
    "# TODO \n",
    "\n",
    "sns.boxplot(x= 'SubjectID',data=df_concatenated,y='RT', ax=axes[0],palette='pastel')\n",
    "sns.stripplot(x= 'SubjectID', y='RT',hue='StimulusType',data=df_concatenated, ax=axes[0],jitter=True)\n",
    "\n",
    "# second subplot with stripplot and violinplot\n",
    "# TODO\n",
    "sns.violinplot(x= 'SubjectID',hue='StimulusType', data=df_concatenated,y='RT', ax=axes[1],strip= True, palette='pastel')\n",
    "sns.stripplot(x= 'SubjectID',data=df_concatenated,y='RT',hue='StimulusType', ax=axes[1], jitter=True)\n",
    "\n",
    "# handling legends\n",
    "\n",
    "# TODO\n",
    "fig.tight_layout()"
   ]
  },
  {
   "cell_type": "markdown",
   "metadata": {},
   "source": [
    "### b) Violinplot combining all data of all groups [3 pts]"
   ]
  },
  {
   "cell_type": "markdown",
   "metadata": {},
   "source": [
    "- Make a dataframe consisting of all data across groups. You already did this in 1.a). At the end this dataframe you should have 8 * 11 * 100 rows.\n",
    "\n",
    "- Every group has used their ID convention. Make sure that every data point follows this SubjectID system: group number + \"00\" + subject number.  \n",
    "e.g) 3002 for the second subject of the third group.\n",
    "\n",
    "- Compute average RT and accuaracy for each subject in the big dataframe you just created. You already did this in 1.b). At the end this dataframe will have 8 * 11 rows.\n",
    "\n",
    "- On the first column plot average RT and accuracy for 8 subjects from your group's data. Use violinplot and split go/no-go conditions.\n",
    "\n",
    "- On the second column plot average RT and accuracy for 80 subjects from all data. Use violinplot and split go/no-go conditions.\n",
    "\n",
    "- Do you see any difference between the first column and the second column? What does this tell us about the central limit theorem (CLT) ?"
   ]
  },
  {
   "cell_type": "code",
   "execution_count": 5,
   "metadata": {},
   "outputs": [
    {
     "data": {
      "image/png": "[encoded data removed]",
      "text/plain": [
       "<Figure size 432x288 with 4 Axes>"
      ]
     },
     "metadata": {
      "needs_background": "light"
     },
     "output_type": "display_data"
    }
   ],
   "source": [
    "# again create a concatenated dataframe over all (averaged) groups.\n",
    "# Don't forget to modify the Subject ID\n",
    "# TODO\n",
    "\n",
    "# Now it's time to plot your results\n",
    "figs, axes = plt.subplots(nrows=2, ncols=2, sharey=\"row\")\n",
    "\n",
    "# violin plot for your group's data\n",
    "# TODO\n",
    "\n",
    "# violin plot of all group's data\n",
    "# TODO\n"
   ]
  },
  {
   "cell_type": "markdown",
   "metadata": {},
   "source": [
    "Compare two datasets and relate it with CLT. Write your opinion here."
   ]
  },
  {
   "cell_type": "markdown",
   "metadata": {},
   "source": [
    "### c) Scatterplot [1 pts]"
   ]
  },
  {
   "cell_type": "markdown",
   "metadata": {},
   "source": [
    "Make a scatterplot comparing RT and accuracy. Do you see some correlation?"
   ]
  },
  {
   "cell_type": "code",
   "execution_count": 6,
   "metadata": {},
   "outputs": [],
   "source": [
    "# TODO"
   ]
  }
 ],
 "metadata": {
  "kernelspec": {
   "display_name": "Python 3",
   "language": "python",
   "name": "python3"
  },
  "language_info": {
   "codemirror_mode": {
    "name": "ipython",
    "version": 3
   },
   "file_extension": ".py",
   "mimetype": "text/x-python",
   "name": "python",
   "nbconvert_exporter": "python",
   "pygments_lexer": "ipython3",
   "version": "3.7.2"
  }
 },
 "nbformat": 4,
 "nbformat_minor": 2
}
